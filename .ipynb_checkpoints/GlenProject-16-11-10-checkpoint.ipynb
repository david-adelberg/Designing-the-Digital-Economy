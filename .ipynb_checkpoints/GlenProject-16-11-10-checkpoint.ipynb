{
 "cells": [
  {
   "cell_type": "code",
   "execution_count": 1,
   "metadata": {
    "collapsed": false
   },
   "outputs": [],
   "source": [
    "import numpy as np\n",
    "import itertools as it\n",
    "import matplotlib.pyplot as plt"
   ]
  },
  {
   "cell_type": "code",
   "execution_count": 2,
   "metadata": {
    "collapsed": true
   },
   "outputs": [],
   "source": [
    "# Use this parameter to set printing behavior\n",
    "verbose = True"
   ]
  },
  {
   "cell_type": "code",
   "execution_count": 3,
   "metadata": {
    "collapsed": false
   },
   "outputs": [],
   "source": [
    "# Compute Manhattan distance between two points.\n",
    "def taxicab(tup1, tup2):\n",
    "    dist = 0\n",
    "    \n",
    "    for i in range(len(tup1)-1):\n",
    "        dist = dist + abs(tup1[i]-tup2[i])\n",
    "    return dist\n",
    "\n",
    "# Compute L2 distance between two points\n",
    "def lineardist(tup1,tup2):\n",
    "    dist = np.linalg.norm(np.subtract(tup1,tup2))\n",
    "    return dist"
   ]
  },
  {
   "cell_type": "code",
   "execution_count": 4,
   "metadata": {
    "collapsed": false
   },
   "outputs": [
    {
     "name": "stdout",
     "output_type": "stream",
     "text": [
      "1.0\n"
     ]
    }
   ],
   "source": [
    "#Median Uber user has an income of approximately $71,000\n",
    "#40% of Uber passengers make at least $100,000\n",
    "#from http://uctc.net/research/papers/UCTC-FR-2014-08.pdf\n",
    "#approximate user distribution of incomes in 2014 was:\n",
    "\n",
    "uberIncomesRaw = [25.0, 50.0, 85.0, 150.0, 300.0, 600.0]\n",
    "uberIncomesDistRaw = [8.0,23.0,18.0,27.0,9.0, 2.0] \n",
    "#note that this doesn't sum to 100, because about 20% of uber drivers\n",
    "#declined to share their income with the surveyors\n",
    "#uberIncomes = np.subtract(uberIncomesRaw, [24.0,24.0,24.0,24.0,24.0,24.0])\n",
    "uberIncomes = uberIncomesRaw/(np.ones(len(uberIncomesRaw))*3)\n",
    "#dividing by 3 roughly approximates hourly values of time? \n",
    "#Roughly? worth thinking about the right value here\n",
    "#result is disposable income\n",
    "\n",
    "uberIncomesDist = uberIncomesDistRaw/np.sum(uberIncomesDistRaw)\n",
    "#probabilities sum to 1\n",
    "\n",
    "print np.sum(uberIncomesDist)\n",
    "\n",
    "#Estimated car value of time to be 15K\n",
    "carCost = 15"
   ]
  },
  {
   "cell_type": "code",
   "execution_count": 5,
   "metadata": {
    "collapsed": false
   },
   "outputs": [],
   "source": [
    "# Compute n destinations with expected L2 distance stdev from (x,y)\n",
    "def destinations(n,stdev,x, y):\n",
    "    dests = []\n",
    "    for i in range(n):\n",
    "        dests.append(tuple(np.append(stdev*np.random.randn(2) + [x,y],(i+1))))\n",
    "    return dests\n",
    "\n",
    "#\n",
    "# 1: randint could give you the value zero?\n",
    "# Re: 1: Distribution choice is somewhat arbitrary.\n",
    "#        See above definition of UberIncomesDist\n",
    "# 2: Do you want np.random.uniform(size=n)?\n",
    "# Re: 2: No, we would like something representative.\n",
    "#        We might try various distributions.\n",
    "# 3: Do you want to just have a sequence of times (i/n)\n",
    "# Re: 3: I'm not sure what this means, but, I don't think so\n",
    "#        In particular, we want some variation.\n",
    "def timevals(n):\n",
    "    #values = np.random.randint(100,size = n)\n",
    "    values = np.random.choice(uberIncomes,n,p=uberIncomesDist)\n",
    "    values = np.append(carCost, values)\n",
    "    #carCost is the cost (in $ Thousands) of the car's time per year\n",
    "    #accounts for carbon usage, car wear, etc.\n",
    "    #should be lower than min(uberIncomes)\n",
    "    #return values/np.mean(values)\n",
    "\n",
    "    #for now, we are normalizing. In the future we may not wish to.\n",
    "    return values\n",
    "# Deprecated    \n",
    "# A zero and then n ones.\n",
    "#def dummytimeval(n):\n",
    "#    #return np.append(,np.ones(n))\n",
    "#    #median user value is 71\n",
    "#    #may be appropriate to have:\n",
    "#    values = np.append(carCost, 71*np.ones(n))\n",
    "#    return values/np.mean(values)\n",
    "    \n"
   ]
  },
  {
   "cell_type": "code",
   "execution_count": 6,
   "metadata": {
    "collapsed": false
   },
   "outputs": [],
   "source": [
    "perms = it.permutations(destinations(3,1,5,5))\n",
    "permlist = []\n",
    "for x in perms:\n",
    "    permlist.append(x)"
   ]
  },
  {
   "cell_type": "code",
   "execution_count": 7,
   "metadata": {
    "collapsed": false
   },
   "outputs": [
    {
     "name": "stdout",
     "output_type": "stream",
     "text": [
      "((3.699572687782696, 7.1629587847914049, 1.0), (4.7278849388737552, 5.0096779660875947, 2.0), (3.3027022506487773, 5.7310816709762307, 3.0))\n",
      "((3.699572687782696, 7.1629587847914049, 1.0), (3.3027022506487773, 5.7310816709762307, 3.0), (4.7278849388737552, 5.0096779660875947, 2.0))\n",
      "((4.7278849388737552, 5.0096779660875947, 2.0), (3.699572687782696, 7.1629587847914049, 1.0), (3.3027022506487773, 5.7310816709762307, 3.0))\n",
      "((4.7278849388737552, 5.0096779660875947, 2.0), (3.3027022506487773, 5.7310816709762307, 3.0), (3.699572687782696, 7.1629587847914049, 1.0))\n",
      "((3.3027022506487773, 5.7310816709762307, 3.0), (3.699572687782696, 7.1629587847914049, 1.0), (4.7278849388737552, 5.0096779660875947, 2.0))\n",
      "((3.3027022506487773, 5.7310816709762307, 3.0), (4.7278849388737552, 5.0096779660875947, 2.0), (3.699572687782696, 7.1629587847914049, 1.0))\n"
     ]
    }
   ],
   "source": [
    "if verbose:\n",
    "    for x in permlist: \n",
    "        print x"
   ]
  },
  {
   "cell_type": "code",
   "execution_count": 8,
   "metadata": {
    "collapsed": false
   },
   "outputs": [
    {
     "data": {
      "text/plain": [
       "[((3.699572687782696, 7.1629587847914049, 1.0),\n",
       "  (4.7278849388737552, 5.0096779660875947, 2.0),\n",
       "  (3.3027022506487773, 5.7310816709762307, 3.0)),\n",
       " ((3.699572687782696, 7.1629587847914049, 1.0),\n",
       "  (3.3027022506487773, 5.7310816709762307, 3.0),\n",
       "  (4.7278849388737552, 5.0096779660875947, 2.0)),\n",
       " ((4.7278849388737552, 5.0096779660875947, 2.0),\n",
       "  (3.699572687782696, 7.1629587847914049, 1.0),\n",
       "  (3.3027022506487773, 5.7310816709762307, 3.0)),\n",
       " ((4.7278849388737552, 5.0096779660875947, 2.0),\n",
       "  (3.3027022506487773, 5.7310816709762307, 3.0),\n",
       "  (3.699572687782696, 7.1629587847914049, 1.0)),\n",
       " ((3.3027022506487773, 5.7310816709762307, 3.0),\n",
       "  (3.699572687782696, 7.1629587847914049, 1.0),\n",
       "  (4.7278849388737552, 5.0096779660875947, 2.0)),\n",
       " ((3.3027022506487773, 5.7310816709762307, 3.0),\n",
       "  (4.7278849388737552, 5.0096779660875947, 2.0),\n",
       "  (3.699572687782696, 7.1629587847914049, 1.0))]"
      ]
     },
     "execution_count": 8,
     "metadata": {},
     "output_type": "execute_result"
    }
   ],
   "source": [
    "permlist"
   ]
  },
  {
   "cell_type": "code",
   "execution_count": 9,
   "metadata": {
    "collapsed": false
   },
   "outputs": [],
   "source": [
    "vals = timevals(3)\n",
    "\n",
    "#\"\"\"#Deprecated\n",
    "\n",
    "#dummyvals = dummytimeval(3)\n",
    "#if verbose:\n",
    "#    print dummyvals\n",
    "#\"\"\""
   ]
  },
  {
   "cell_type": "code",
   "execution_count": 10,
   "metadata": {
    "collapsed": false
   },
   "outputs": [],
   "source": [
    "#The cost function accounts for individuals exiting the uber\n",
    "\n",
    "def cost(weights, path, startx, starty):\n",
    "    origin = tuple([startx,starty, 0])\n",
    "    currloc = origin\n",
    "    currcost = sum(weights)\n",
    "    totalcost = 0\n",
    "    for i in range(len(path)):\n",
    "        \n",
    "        #totalcost += currcost * taxicab(currloc,path[i])\n",
    "        totalcost += currcost * lineardist(currloc,path[i])\n",
    "        currcost = currcost-weights[path[i][2]]\n",
    "        currloc = path[i]\n",
    "        #print currcost\n",
    "        #print weights\n",
    "    return totalcost\n",
    "\n",
    "#The envCost function computes the total length of a given path; presumably \n",
    "#this is proportional to the environmental and capital costs of a route\n",
    "def envCost(weights, path, startx, starty):\n",
    "    #Note that \"weights\" is unused, and may be removed from this function's arguments\n",
    "    origin = tuple([startx, starty, 0])\n",
    "    currloc = origin\n",
    "    currcost = 1\n",
    "    totalcost = 0\n",
    "    for i in range(len(path)):\n",
    "        totalcost += currcost * lineardist(currloc, path[i])\n",
    "        currloc = path[i]\n",
    "    return totalcost\n",
    "\n",
    "#def indivCost(weights, path, startx, starty):\n",
    "    \n"
   ]
  },
  {
   "cell_type": "code",
   "execution_count": 11,
   "metadata": {
    "collapsed": false
   },
   "outputs": [
    {
     "name": "stderr",
     "output_type": "stream",
     "text": [
      "/Users/davidadelberg/anaconda/envs/py27/lib/python2.7/site-packages/ipykernel/__main__.py:12: VisibleDeprecationWarning: using a non-integer number instead of an integer will result in an error in the future\n"
     ]
    }
   ],
   "source": [
    "\n",
    "wgtcost = []\n",
    "unwgtcost = []\n",
    "\n",
    "for i in range(len(permlist)):\n",
    "    wgtcost.append(cost(vals,permlist[i],0,0))\n",
    "    unwgtcost.append(envCost(vals,permlist[i],0,0))\n",
    "    "
   ]
  },
  {
   "cell_type": "code",
   "execution_count": 12,
   "metadata": {
    "collapsed": false
   },
   "outputs": [
    {
     "name": "stdout",
     "output_type": "stream",
     "text": [
      "0.95862506267\n"
     ]
    }
   ],
   "source": [
    "optimal =  wgtcost.index(min(wgtcost))\n",
    "shortest =  unwgtcost.index(min(unwgtcost))\n",
    "print wgtcost[optimal]/wgtcost[shortest]"
   ]
  },
  {
   "cell_type": "code",
   "execution_count": 13,
   "metadata": {
    "collapsed": true
   },
   "outputs": [],
   "source": [
    "riders = 3\n",
    "dispersion = 3 #unused\n",
    "centerx = 6\n",
    "centery = 6"
   ]
  },
  {
   "cell_type": "code",
   "execution_count": 14,
   "metadata": {
    "collapsed": false
   },
   "outputs": [
    {
     "name": "stderr",
     "output_type": "stream",
     "text": [
      "/Users/davidadelberg/anaconda/envs/py27/lib/python2.7/site-packages/ipykernel/__main__.py:12: VisibleDeprecationWarning: using a non-integer number instead of an integer will result in an error in the future\n"
     ]
    }
   ],
   "source": [
    "output = []\n",
    "socialcost = []\n",
    "for j in range(3,20):\n",
    "    dispersion = j\n",
    "    savings = []\n",
    "    unsavings = []\n",
    "    for i in range(100):\n",
    "        perms = it.permutations(destinations(riders,dispersion,centerx,centery))\n",
    "        lst = list(perms)\n",
    "        np.random.shuffle(lst)\n",
    "    \n",
    "        #To reduce computation time in the case of a large number of riders,\n",
    "        #We simply look at some large subset of paths instead of the entire space\n",
    "        #Obviously this isn't great in the worst case, but it is good in the average case\n",
    "        if riders > 5:\n",
    "            lst = lst[:120]\n",
    "        permlist = []\n",
    "        for x in lst:\n",
    "            permlist.append(x)\n",
    "\n",
    "        vals = timevals(riders)\n",
    "        #dummyvals = dummytimeval(riders)\n",
    "        #print dummyvals\n",
    "        wgtcost = []\n",
    "        unwgtcost = []\n",
    "\n",
    "        for i in range(len(permlist)):\n",
    "            wgtcost.append(cost(vals,permlist[i],0,0))\n",
    "            unwgtcost.append(envCost(vals,permlist[i],0,0))\n",
    "\n",
    "        optimal =  wgtcost.index(min(wgtcost))\n",
    "        #lindist = unwgtcost.index(min(wgtcost))\n",
    "        shortest =  unwgtcost.index(min(unwgtcost))\n",
    "        savings.append(wgtcost[optimal]/wgtcost[shortest])\n",
    "        unsavings.append(unwgtcost[optimal]/unwgtcost[shortest])\n",
    "        #Note that there was a bug in the previous line in the first version \n",
    "        \n",
    "    output.append(np.mean(savings))\n",
    "    socialcost.append(np.mean(unsavings))"
   ]
  },
  {
   "cell_type": "code",
   "execution_count": 15,
   "metadata": {
    "collapsed": false
   },
   "outputs": [
    {
     "data": {
      "text/plain": [
       "[<matplotlib.lines.Line2D at 0x10a4e7a10>]"
      ]
     },
     "execution_count": 15,
     "metadata": {},
     "output_type": "execute_result"
    },
    {
     "data": {
      "image/png": "[encoded data removed]",
      "text/plain": [
       "<matplotlib.figure.Figure at 0x10a4e7690>"
      ]
     },
     "metadata": {},
     "output_type": "display_data"
    }
   ],
   "source": [
    "%matplotlib inline\n",
    "\n",
    "#print np.mean(savings)\n",
    "plt.plot(output)\n",
    "plt.plot(socialcost)"
   ]
  },
  {
   "cell_type": "code",
   "execution_count": null,
   "metadata": {
    "collapsed": true
   },
   "outputs": [],
   "source": [
    "# A TA mentioned that it might be interesting to consider the case where there are several normal variates, for several centers"
   ]
  },
  {
   "cell_type": "code",
   "execution_count": null,
   "metadata": {
    "collapsed": true
   },
   "outputs": [],
   "source": []
  },
  {
   "cell_type": "code",
   "execution_count": null,
   "metadata": {
    "collapsed": true
   },
   "outputs": [],
   "source": []
  }
 ],
 "metadata": {
  "anaconda-cloud": {},
  "kernelspec": {
   "display_name": "Python 2",
   "language": "python",
   "name": "python2"
  },
  "language_info": {
   "codemirror_mode": {
    "name": "ipython",
    "version": 2
   },
   "file_extension": ".py",
   "mimetype": "text/x-python",
   "name": "python",
   "nbconvert_exporter": "python",
   "pygments_lexer": "ipython2",
   "version": "2.7.12"
  }
 },
 "nbformat": 4,
 "nbformat_minor": 1
}
