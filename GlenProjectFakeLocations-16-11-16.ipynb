{
 "cells": [
  {
   "cell_type": "code",
   "execution_count": 1,
   "metadata": {
    "collapsed": true
   },
   "outputs": [],
   "source": [
    "import numpy as np\n",
    "import itertools as it\n",
    "import matplotlib.pyplot as plt"
   ]
  },
  {
   "cell_type": "code",
   "execution_count": 2,
   "metadata": {
    "collapsed": true
   },
   "outputs": [],
   "source": [
    "# Use this parameter to set printing behavior\n",
    "verbose = True"
   ]
  },
  {
   "cell_type": "code",
   "execution_count": 3,
   "metadata": {
    "collapsed": true
   },
   "outputs": [],
   "source": [
    "# Compute Manhattan distance between two points\n",
    "def taxicab(tup1, tup2):\n",
    "    dist = 0\n",
    "    for i in range(len(tup1) - 1):\n",
    "        dist = dist + abs(tup1[i]-tup2[i])\n",
    "    return dist\n",
    "\n",
    "# Compute Euclidean distance between two points\n",
    "def lineardist(tup1, tup2):\n",
    "    dist = np.linalg.norm(np.subtract(tup1,tup2))\n",
    "    return dist"
   ]
  },
  {
   "cell_type": "code",
   "execution_count": 4,
   "metadata": {
    "collapsed": true
   },
   "outputs": [],
   "source": [
    "# Median Uber user has an income of approximately $71,000\n",
    "# 40% of Uber passengers make at least $100,000\n",
    "# from http://uctc.net/research/papers/UCTC-FR-2014-08.pdf\n",
    "# I added some high earning users, and the result is an\n",
    "# approximate user distribution of incomes in 2014:\n",
    "\n",
    "uberIncomesRaw = [25.0, 50.0, 85.0, 150.0, 300.0, 600.0]\n",
    "uberIncomesDistRaw = [8.0,23.0,18.0,27.0,9.0, 2.0] \n",
    "# Note that this doesn't sum to 100, because about 20% of uber drivers\n",
    "# declined to share their income with the surveyors\n",
    "\n",
    "uberIncomes = uberIncomesRaw/(np.ones(len(uberIncomesRaw)))\n",
    "# Note that these numbers are not normalized in any way\n",
    "# In production, these numbers should be in units of $/minute\n",
    "\n",
    "uberIncomesDist = uberIncomesDistRaw/np.sum(uberIncomesDistRaw)\n",
    "# Force probabilities to sum to 1.\n",
    "\n",
    "#Estimated car value of time to be equivalent to 15K/year earner\n",
    "carCost = 15"
   ]
  },
  {
   "cell_type": "code",
   "execution_count": 5,
   "metadata": {
    "collapsed": true
   },
   "outputs": [],
   "source": [
    "# Compute n destinations randomly distributed away from (x,y)\n",
    "# at distances proportional to stdev\n",
    "def destinations(n,stdev,x, y):\n",
    "    dests = []\n",
    "    for i in range(n):\n",
    "        dests.append(tuple(np.append(stdev*np.random.randn(2) + [x,y],(i+1))))\n",
    "    return dests\n",
    "\n",
    "# Compute and assign some random time values to n customers\n",
    "# also include the time value of a car\n",
    "def timevals(n):\n",
    "    values = np.random.choice(uberIncomes,n,p=uberIncomesDist)\n",
    "    values = np.append(carCost, values)\n",
    "    return values\n"
   ]
  },
  {
   "cell_type": "code",
   "execution_count": 6,
   "metadata": {
    "collapsed": true
   },
   "outputs": [],
   "source": [
    "def distanceMatrix(destinations, originx, originy):\n",
    "    dests1 = []\n",
    "    dests1.append(tuple([originx,originy,0.0]))\n",
    "    for x in destinations:\n",
    "        dests1.append(x)\n",
    "    A = len(dests1)\n",
    "    distMatrix = np.ndarray((A, A))\n",
    "\n",
    "    for i in range(len(distMatrix)):\n",
    "        for j in range(len(distMatrix[i])):\n",
    "            distMatrix[i][j] = taxicab(dests1[i],dests1[j])\n",
    "    \n",
    "    return distMatrix\n",
    "\n",
    "\n",
    "def pathList(destinations, originx, originy):\n",
    "    perms = it.permutations(destinations)\n",
    "    lst = list(perms)\n",
    "    np.random.shuffle(lst)\n",
    "\n",
    "    #To reduce computation time in the case of a large number of riders,\n",
    "    #We simply look at some large subset of paths instead of the entire space\n",
    "    #Obviously this isn't great in the worst case, but it is good in the average case\n",
    "    if len(lst) > 120:\n",
    "        lst = lst[:120]\n",
    "    permlist = []\n",
    "    for x in lst:\n",
    "        newpath = []\n",
    "        newpath.append(tuple([originx,originy,0.0]))\n",
    "        for j in x:\n",
    "            newpath.append(j)\n",
    "        permlist.append(newpath)\n",
    "\n",
    "    return permlist\n",
    "\n",
    "def subsetPathList(destinations, originx, originy, leftOut):\n",
    "    subDests = []\n",
    "    for x in destinations:\n",
    "        if x[2] != leftOut:\n",
    "            subDests.append(x)\n",
    "            \n",
    "    return pathList(subDests, originx, originy)"
   ]
  },
  {
   "cell_type": "code",
   "execution_count": 7,
   "metadata": {
    "collapsed": true
   },
   "outputs": [],
   "source": [
    "# Compute the cost of a given path given a distance matrix\n",
    "# containing pairwise distances between points in the path\n",
    "def costMat(weights, path, distances):\n",
    "    currloc = path[0]\n",
    "    currcost = 0\n",
    "    for x in path:\n",
    "        currcost += weights[x[2]]   \n",
    "    totalcost = 0\n",
    "    for i in range(len(path)):\n",
    "        totalcost += currcost * distances[currloc[2]][path[i][2]]\n",
    "        if i > 0:\n",
    "            currcost = currcost - weights[path[i][2]]\n",
    "        currloc = path[i]\n",
    "    return totalcost\n",
    "\n",
    "# Compute the environmental cost of the path, equal to\n",
    "# the cost of the path to the car\n",
    "def envCostMat(path, distances):\n",
    "    currloc = path[0]\n",
    "    currcost = carCost\n",
    "    totalcost = 0\n",
    "    for i in range(len(path)):\n",
    "        if i > 0:\n",
    "            totalcost += currcost * distances[currloc[2]][path[i][2]]\n",
    "            currloc = path[i]\n",
    "    return totalcost\n",
    "\n",
    "# Computes the individual costs of a given path and returns a matrix\n",
    "# with the respective costs formatted as [car, 0, 1, . . . ]\n",
    "def indivCostMat(weights, path, distances):\n",
    "    numPeople = len(weights)\n",
    "    costs = np.zeros(numPeople)\n",
    "    currloc = path[0]\n",
    "    totalcost = 0\n",
    "    inCar = set()\n",
    "    inCar.add(0)\n",
    "    for n in range(len(path)):\n",
    "        inCar.add(path[n][2])\n",
    "    for i in range(len(path)):\n",
    "        for j in inCar:\n",
    "            costs[j] += weights[j]*distances[currloc[2]][path[i][2]]\n",
    "            \n",
    "        if i > 0: #Never removes the car\n",
    "            inCar.remove(path[i][2])\n",
    "        currloc = path[i]\n",
    "    return costs\n"
   ]
  },
  {
   "cell_type": "code",
   "execution_count": 8,
   "metadata": {
    "collapsed": true
   },
   "outputs": [],
   "source": [
    "def optimalPath(weights, paths, distances):\n",
    "    wgtcost =[]\n",
    "    for i in range(len(paths)):\n",
    "        wgtcost.append(costMat(weights,paths[i],distances))\n",
    "    \n",
    "    optimal = wgtcost.index(min(wgtcost))\n",
    "    return optimal\n",
    "\n",
    "def shortestPath(paths,distances):\n",
    "    unwgtcost = []\n",
    "    for i in range(len(paths)):\n",
    "        unwgtcost.append(envCostMat(paths[i],distances))\n",
    "    \n",
    "    shortest =  unwgtcost.index(min(unwgtcost))\n",
    "    return shortest\n"
   ]
  },
  {
   "cell_type": "code",
   "execution_count": 9,
   "metadata": {
    "collapsed": true
   },
   "outputs": [],
   "source": [
    "riders = 5\n",
    "dispersion = 3\n",
    "centerx = 100\n",
    "centery = 0"
   ]
  },
  {
   "cell_type": "code",
   "execution_count": 10,
   "metadata": {
    "collapsed": false
   },
   "outputs": [
    {
     "name": "stderr",
     "output_type": "stream",
     "text": [
      "/Users/davidadelberg/anaconda/envs/py27/lib/python2.7/site-packages/ipykernel/__main__.py:7: VisibleDeprecationWarning: using a non-integer number instead of an integer will result in an error in the future\n",
      "/Users/davidadelberg/anaconda/envs/py27/lib/python2.7/site-packages/ipykernel/__main__.py:10: VisibleDeprecationWarning: using a non-integer number instead of an integer will result in an error in the future\n",
      "/Users/davidadelberg/anaconda/envs/py27/lib/python2.7/site-packages/ipykernel/__main__.py:12: VisibleDeprecationWarning: using a non-integer number instead of an integer will result in an error in the future\n",
      "/Users/davidadelberg/anaconda/envs/py27/lib/python2.7/site-packages/ipykernel/__main__.py:24: VisibleDeprecationWarning: using a non-integer number instead of an integer will result in an error in the future\n"
     ]
    }
   ],
   "source": [
    "output = []\n",
    "socialcost = []\n",
    "for q in range(2,6):\n",
    "    output.append(np.nan) # just to beautify the graph\n",
    "    socialcost.append(np.nan) # ditto\n",
    "    riders = q\n",
    "    for j in range(1,20):\n",
    "        \n",
    "        dispersion = j\n",
    "        savings = []\n",
    "        unsavings = []\n",
    "        for i in range(400):\n",
    "            vals = timevals(riders)\n",
    "            #Build distance matrix\n",
    "            dests = destinations(riders,dispersion,centerx,centery)\n",
    "            distMatrix = distanceMatrix(dests, 0,0)\n",
    "            fullPaths = pathList(dests,0,0)\n",
    "            fullOpt = fullPaths[optimalPath(vals,fullPaths,distMatrix)]\n",
    "            fullShort = fullPaths[shortestPath(fullPaths,distMatrix)]\n",
    "\n",
    "\n",
    "            savings.append(costMat(vals,fullOpt,distMatrix)/costMat(vals,fullShort,distMatrix))\n",
    "            unsavings.append(envCostMat(fullOpt,distMatrix)/envCostMat(fullShort,distMatrix))\n",
    "\n",
    "        output.append(np.mean(savings))\n",
    "        socialcost.append(np.mean(unsavings))"
   ]
  },
  {
   "cell_type": "code",
   "execution_count": 11,
   "metadata": {
    "collapsed": false
   },
   "outputs": [
    {
     "data": {
      "text/plain": [
       "[<matplotlib.lines.Line2D at 0x10a603c10>]"
      ]
     },
     "execution_count": 11,
     "metadata": {},
     "output_type": "execute_result"
    },
    {
     "data": {
      "image/png": "[encoded data removed]",
      "text/plain": [
       "<matplotlib.figure.Figure at 0x10a603c90>"
      ]
     },
     "metadata": {},
     "output_type": "display_data"
    }
   ],
   "source": [
    "%matplotlib inline\n",
    "\n",
    "#print np.mean(savings)\n",
    "plt.plot(output)\n",
    "plt.plot(socialcost)"
   ]
  },
  {
   "cell_type": "code",
   "execution_count": 12,
   "metadata": {
    "collapsed": false
   },
   "outputs": [],
   "source": [
    "import pickle\n",
    "\n",
    "pickle.dump(output, open(\"output.txt\",\"wb\"))\n",
    "pickle.dump(socialcost, open(\"socialcost.txt\",\"wb\"))"
   ]
  },
  {
   "cell_type": "code",
   "execution_count": 13,
   "metadata": {
    "collapsed": true
   },
   "outputs": [],
   "source": [
    "newlist = pickle.load(open(\"output.txt\",\"rb\"))\n",
    "newlist2 = pickle.load(open(\"socialcost.txt\",\"rb\"))"
   ]
  },
  {
   "cell_type": "code",
   "execution_count": 14,
   "metadata": {
    "collapsed": false,
    "scrolled": true
   },
   "outputs": [
    {
     "data": {
      "text/plain": [
       "[<matplotlib.lines.Line2D at 0x10a673990>]"
      ]
     },
     "execution_count": 14,
     "metadata": {},
     "output_type": "execute_result"
    },
    {
     "data": {
      "image/png": "[encoded data removed]",
      "text/plain": [
       "<matplotlib.figure.Figure at 0x10cb05710>"
      ]
     },
     "metadata": {},
     "output_type": "display_data"
    }
   ],
   "source": [
    "plt.plot(newlist)\n",
    "plt.plot(newlist2)"
   ]
  },
  {
   "cell_type": "code",
   "execution_count": 15,
   "metadata": {
    "collapsed": false
   },
   "outputs": [],
   "source": [
    "assert newlist == newlist[0:len(newlist)]"
   ]
  },
  {
   "cell_type": "code",
   "execution_count": 16,
   "metadata": {
    "collapsed": false
   },
   "outputs": [
    {
     "name": "stderr",
     "output_type": "stream",
     "text": [
      "/Users/davidadelberg/anaconda/envs/py27/lib/python2.7/site-packages/ipykernel/__main__.py:7: VisibleDeprecationWarning: using a non-integer number instead of an integer will result in an error in the future\n",
      "/Users/davidadelberg/anaconda/envs/py27/lib/python2.7/site-packages/ipykernel/__main__.py:10: VisibleDeprecationWarning: using a non-integer number instead of an integer will result in an error in the future\n",
      "/Users/davidadelberg/anaconda/envs/py27/lib/python2.7/site-packages/ipykernel/__main__.py:12: VisibleDeprecationWarning: using a non-integer number instead of an integer will result in an error in the future\n",
      "/Users/davidadelberg/anaconda/envs/py27/lib/python2.7/site-packages/ipykernel/__main__.py:24: VisibleDeprecationWarning: using a non-integer number instead of an integer will result in an error in the future\n"
     ]
    }
   ],
   "source": [
    "\n",
    "centerx = 0\n",
    "centery = 0\n",
    "\n",
    "output1 = []\n",
    "socialcost1 = []\n",
    "for q in range(2,6):\n",
    "    output1.append(np.nan) # just to beautify the graph\n",
    "    socialcost1.append(np.nan) # ditto\n",
    "    riders = q\n",
    "    for j in range(3,10):\n",
    "        \n",
    "        dispersion = j\n",
    "        savings = []\n",
    "        unsavings = []\n",
    "        for i in range(400):\n",
    "            vals = timevals(riders)\n",
    "            #Build distance matrix\n",
    "            dests = destinations(riders,dispersion,centerx,centery)\n",
    "            distMatrix = distanceMatrix(dests, 0,0)\n",
    "            fullPaths = pathList(dests,0,0)\n",
    "            fullOpt = fullPaths[optimalPath(vals,fullPaths,distMatrix)]\n",
    "            fullShort = fullPaths[shortestPath(fullPaths,distMatrix)]\n",
    "\n",
    "            savings.append(costMat(vals,fullOpt,distMatrix)/costMat(vals,fullShort,distMatrix))\n",
    "            unsavings.append(envCostMat(fullOpt,distMatrix)/envCostMat(fullShort,distMatrix))\n",
    "\n",
    "        output1.append(np.mean(savings))\n",
    "        socialcost1.append(np.mean(unsavings))\n",
    "        \n",
    "        \n"
   ]
  },
  {
   "cell_type": "code",
   "execution_count": 17,
   "metadata": {
    "collapsed": false
   },
   "outputs": [
    {
     "data": {
      "text/plain": [
       "[<matplotlib.lines.Line2D at 0x10d06d590>]"
      ]
     },
     "execution_count": 17,
     "metadata": {},
     "output_type": "execute_result"
    },
    {
     "data": {
      "image/png": "[encoded data removed]",
      "text/plain": [
       "<matplotlib.figure.Figure at 0x10d06d5d0>"
      ]
     },
     "metadata": {},
     "output_type": "display_data"
    }
   ],
   "source": [
    "plt.plot(output1)\n",
    "plt.plot(socialcost1)"
   ]
  },
  {
   "cell_type": "code",
   "execution_count": null,
   "metadata": {
    "collapsed": true
   },
   "outputs": [],
   "source": []
  }
 ],
 "metadata": {
  "anaconda-cloud": {},
  "kernelspec": {
   "display_name": "Python 2",
   "language": "python",
   "name": "python2"
  },
  "language_info": {
   "codemirror_mode": {
    "name": "ipython",
    "version": 2
   },
   "file_extension": ".py",
   "mimetype": "text/x-python",
   "name": "python",
   "nbconvert_exporter": "python",
   "pygments_lexer": "ipython2",
   "version": "2.7.12"
  }
 },
 "nbformat": 4,
 "nbformat_minor": 0
}
