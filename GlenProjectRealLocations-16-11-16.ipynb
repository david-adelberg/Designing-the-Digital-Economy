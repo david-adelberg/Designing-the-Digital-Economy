{
 "cells": [
  {
   "cell_type": "code",
   "execution_count": 1,
   "metadata": {
    "collapsed": true
   },
   "outputs": [],
   "source": [
    "import numpy as np\n",
    "import itertools as it\n",
    "import matplotlib.pyplot as plt\n"
   ]
  },
  {
   "cell_type": "markdown",
   "metadata": {},
   "source": [
    "### Part 1: ###\n",
    "Convert uberIncomesRaw and carCost in the following cell to valuations per minute, or per mile (depending on usage of Google Distance Matrix API)"
   ]
  },
  {
   "cell_type": "code",
   "execution_count": 3,
   "metadata": {
    "collapsed": true
   },
   "outputs": [],
   "source": [
    "# Median Uber user has an income of approximately $71,000\n",
    "# 40% of Uber passengers make at least $100,000\n",
    "# from http://uctc.net/research/papers/UCTC-FR-2014-08.pdf\n",
    "# I added some high earning users, and the result is an\n",
    "# approximate user distribution of incomes in 2014:\n",
    "\n",
    "uberIncomesRaw = [25.0, 50.0, 85.0, 150.0, 300.0, 600.0]\n",
    "uberIncomesDistRaw = [8.0,23.0,18.0,27.0,9.0, 2.0] \n",
    "# Note that this doesn't sum to 100, because about 20% of uber drivers\n",
    "# declined to share their income with the surveyors\n",
    "\n",
    "uberIncomes = uberIncomesRaw/(np.ones(len(uberIncomesRaw)))\n",
    "# Note that these numbers are not normalized in any way\n",
    "# In production, these numbers should be in units of $/minute\n",
    "\n",
    "uberIncomesDist = uberIncomesDistRaw/np.sum(uberIncomesDistRaw)\n",
    "# Force probabilities to sum to 1.\n",
    "\n",
    "#Estimated car value of time to be equivalent to 15K/year earner\n",
    "carCost = 15"
   ]
  },
  {
   "cell_type": "markdown",
   "metadata": {},
   "source": [
    "### Part 2: ###\n",
    "\n",
    "Request user input of destinations, including an origin point and a number of dropoff points. Then, convert these destinations to two-dimensional coordinates and return them as: $$[(originx,originy,0.0),(x_1,y_1,1.0),(x_2,y_2,2.0),...]$$\n",
    "\n",
    "At this stage, it would be OK if we just get something fairly reasonable that we can feed to Google Maps and use to check the rest of the results; but in theory we should be able to type in or somehow input d"
   ]
  },
  {
   "cell_type": "code",
   "execution_count": 7,
   "metadata": {
    "collapsed": false
   },
   "outputs": [],
   "source": [
    "def destinations(inputs):\n",
    "    return 0"
   ]
  },
  {
   "cell_type": "markdown",
   "metadata": {},
   "source": [
    "### Part 3: ###\n",
    "Use the destinations to make a Google Distance Matrix API using all of our destinations (notice that you'll have to strip out the indexing of the locations) as both origin and destination points (so if there are $n$ destinations, the output should be an $n+1 \\times n+1$ matrix). Also it would be great if the returned matrix could just be floats representing the number of minutes between locations; see if parsing is easy. Make sure that the order of things is preserved."
   ]
  },
  {
   "cell_type": "code",
   "execution_count": 8,
   "metadata": {
    "collapsed": true
   },
   "outputs": [],
   "source": [
    "def distanceMatrix(destinations):\n",
    "    return 0"
   ]
  },
  {
   "cell_type": "markdown",
   "metadata": {},
   "source": [
    "The below code is slightly modified from the version in the abstract locatiosn to reflect that our list of destinations will look like $$[origin, loc_1, loc_2, \\ldots]$$"
   ]
  },
  {
   "cell_type": "code",
   "execution_count": 11,
   "metadata": {
    "collapsed": true
   },
   "outputs": [],
   "source": [
    "def pathList(destinations):\n",
    "    perms = it.permutations(destinations[1:len(destinations)])\n",
    "    origin = destinations[0]\n",
    "    lst = list(perms)\n",
    "    np.random.shuffle(lst)\n",
    "\n",
    "    #To reduce computation time in the case of a large number of riders,\n",
    "    #We simply look at some large subset of paths instead of the entire space\n",
    "    #Obviously this isn't great in the worst case, but it is good in the average case\n",
    "    if len(lst) > 120:\n",
    "        lst = lst[:120]\n",
    "    permlist = []\n",
    "    for x in lst:\n",
    "        newpath = []\n",
    "        newpath.append(origin)\n",
    "        for j in x:\n",
    "            newpath.append(j)\n",
    "        permlist.append(newpath)\n",
    "\n",
    "    return permlist\n",
    "\n",
    "def subsetPathList(destinations, leftOut):\n",
    "    subDests = []\n",
    "    for x in destinations:\n",
    "        if x[2] != leftOut:\n",
    "            subDests.append(x)\n",
    "            \n",
    "    return pathList(subDests)"
   ]
  },
  {
   "cell_type": "markdown",
   "metadata": {},
   "source": [
    "This code is copied from the abstract location version; nothing has changed."
   ]
  },
  {
   "cell_type": "code",
   "execution_count": 13,
   "metadata": {
    "collapsed": true
   },
   "outputs": [],
   "source": [
    "# Compute the cost of a given path given a distance matrix\n",
    "# containing pairwise distances between points in the path\n",
    "def costMat(weights, path, distances):\n",
    "    currloc = path[0]\n",
    "    currcost = 0\n",
    "    for x in path:\n",
    "        currcost += weights[x[2]]   \n",
    "    totalcost = 0\n",
    "    for i in range(len(path)):\n",
    "        totalcost += currcost * distances[currloc[2]][path[i][2]]\n",
    "        if i > 0:\n",
    "            currcost = currcost - weights[path[i][2]]\n",
    "        currloc = path[i]\n",
    "    return totalcost\n",
    "\n",
    "# Compute the environmental cost of the path, equal to\n",
    "# the cost of the path to the car\n",
    "def envCostMat(path, distances):\n",
    "    currloc = path[0]\n",
    "    currcost = carCost\n",
    "    totalcost = 0\n",
    "    for i in range(len(path)):\n",
    "        if i > 0:\n",
    "            totalcost += currcost * distances[currloc[2]][path[i][2]]\n",
    "            currloc = path[i]\n",
    "    return totalcost\n",
    "\n",
    "# Computes the individual costs of a given path and returns a matrix\n",
    "# with the respective costs formatted as [car, 0, 1, . . . ]\n",
    "def indivCostMat(weights, path, distances):\n",
    "    numPeople = riders+1\n",
    "    costs = np.zeros(numPeople)\n",
    "    currloc = path[0]\n",
    "    totalcost = 0\n",
    "    inCar = set()\n",
    "    inCar.add(0)\n",
    "    for n in range(len(path)):\n",
    "        inCar.add(path[n][2])\n",
    "    for i in range(len(path)):\n",
    "        for j in inCar:\n",
    "            costs[j] += weights[j]*distances[currloc[2]][path[i][2]]\n",
    "            \n",
    "        if i > 0: #Never removes the car\n",
    "            inCar.remove(path[i][2])\n",
    "        currloc = path[i]\n",
    "    return costs\n",
    "\n",
    "def optimalPath(weights, paths, distances):\n",
    "    wgtcost =[]\n",
    "    for i in range(len(paths)):\n",
    "        wgtcost.append(costMat(weights,paths[i],distances))\n",
    "    \n",
    "    optimal = wgtcost.index(min(wgtcost))\n",
    "    return optimal\n",
    "\n",
    "def shortestPath(paths,distances):\n",
    "    unwgtcost = []\n",
    "    for i in range(len(paths)):\n",
    "        unwgtcost.append(envCostMat(paths[i],distances))\n",
    "    \n",
    "    shortest =  unwgtcost.index(min(unwgtcost))\n",
    "    return shortest\n",
    "\n",
    "\n"
   ]
  },
  {
   "cell_type": "markdown",
   "metadata": {},
   "source": [
    "This code is unique to calculating payments, and is unfinished. I think it works as desired, although you may want to compare and experiment with the less polished code in the GlenProject-16-11-13 file to make sure that this does what you want."
   ]
  },
  {
   "cell_type": "code",
   "execution_count": 15,
   "metadata": {
    "collapsed": false
   },
   "outputs": [],
   "source": [
    "def harmMatrices(timeValues, destinations):\n",
    "    distMatrix = distanceMatrix(destinations)\n",
    "    allPaths = pathList(destinations)\n",
    "    optPath = allPaths[optimalPath(timeValues,allPaths,distMatrix)]\n",
    "    deficientPaths = []\n",
    "    for i in range(len(timeValues)):\n",
    "        deficientPaths.append(subsetPathList(dests,i))\n",
    "    subOptCosts = []\n",
    "    for i in range(len(timeValues)):\n",
    "        deficientOptPath = deficientPaths[i][optimalPath(vals,deficientPaths[i],distMatrix)]\n",
    "        subOptCosts.append(indivCostMat(vals, deficientOptPath,distMatrix))\n",
    "    output = []\n",
    "    output[0] = subOptCosts[0]\n",
    "    for i in range(len(timeValues)):\n",
    "        if i > 0:\n",
    "            payments = subOptCosts[0]-subOptCosts[i]\n",
    "            payments[i] = 0\n",
    "            output[i] = payments\n",
    "        \n",
    "    return output\n",
    "\n",
    "   \n",
    "\n",
    "        \n",
    "        \n"
   ]
  },
  {
   "cell_type": "code",
   "execution_count": 16,
   "metadata": {
    "collapsed": false
   },
   "outputs": [
    {
     "ename": "NameError",
     "evalue": "name 'output' is not defined",
     "output_type": "error",
     "traceback": [
      "\u001b[0;31m---------------------------------------------------------------------------\u001b[0m",
      "\u001b[0;31mNameError\u001b[0m                                 Traceback (most recent call last)",
      "\u001b[0;32m<ipython-input-16-ae0e5007e9c4>\u001b[0m in \u001b[0;36m<module>\u001b[0;34m()\u001b[0m\n\u001b[0;32m----> 1\u001b[0;31m \u001b[0;32mfor\u001b[0m \u001b[0mi\u001b[0m \u001b[0;32min\u001b[0m \u001b[0mrange\u001b[0m\u001b[0;34m(\u001b[0m\u001b[0mlen\u001b[0m\u001b[0;34m(\u001b[0m\u001b[0moutput\u001b[0m\u001b[0;34m)\u001b[0m\u001b[0;34m)\u001b[0m\u001b[0;34m:\u001b[0m\u001b[0;34m\u001b[0m\u001b[0m\n\u001b[0m\u001b[1;32m      2\u001b[0m     \u001b[0;32mif\u001b[0m \u001b[0mi\u001b[0m \u001b[0;34m==\u001b[0m \u001b[0;36m0\u001b[0m\u001b[0;34m:\u001b[0m\u001b[0;34m\u001b[0m\u001b[0m\n\u001b[1;32m      3\u001b[0m         \u001b[0;32mprint\u001b[0m \u001b[0;34m\"Total cost to passengers is \"\u001b[0m\u001b[0;34m,\u001b[0m \u001b[0moutput\u001b[0m\u001b[0;34m[\u001b[0m\u001b[0mi\u001b[0m\u001b[0;34m]\u001b[0m\u001b[0;34m\u001b[0m\u001b[0m\n\u001b[1;32m      4\u001b[0m     \u001b[0;32melse\u001b[0m\u001b[0;34m:\u001b[0m\u001b[0;34m\u001b[0m\u001b[0m\n\u001b[1;32m      5\u001b[0m         \u001b[0;32mprint\u001b[0m \u001b[0;34m\"Marginal impact of rider \"\u001b[0m\u001b[0;34m,\u001b[0m \u001b[0mi\u001b[0m\u001b[0;34m,\u001b[0m \u001b[0;34m\"= \"\u001b[0m\u001b[0;34m,\u001b[0m \u001b[0moutput\u001b[0m\u001b[0;34m[\u001b[0m\u001b[0mi\u001b[0m\u001b[0;34m]\u001b[0m\u001b[0;34m\u001b[0m\u001b[0m\n",
      "\u001b[0;31mNameError\u001b[0m: name 'output' is not defined"
     ]
    }
   ],
   "source": [
    "for i in range(len(output)): \n",
    "    if i == 0:\n",
    "        print \"Total cost to passengers is \", output[i]\n",
    "    else:\n",
    "        print \"Marginal impact of rider \", i, \"= \", output[i]"
   ]
  },
  {
   "cell_type": "markdown",
   "metadata": {},
   "source": [
    "### Part 4: ###\n",
    "\n",
    "Basically what remains to be done is to turn this output (marginal impact of riders) into a payment scheme. To that end, please read a paper about Vickrey Clarke Groves mechanisms and make sure that you know and can defend the answers to the following questions: \n",
    "\n",
    "1. What is the right way to compute payments in a VCG auctions?\n",
    "2. What does the mechanism do with thsoe payment?\n",
    "\n",
    "Then, find a way to use the harmMatrices (which will have units of dollars after the Distance Matrix API stuff is implemented) to compute appropriate payments from each participant. Try to see if these payments are reasonable, and if they are not, to figure out what we are doing wrong.\n"
   ]
  },
  {
   "cell_type": "code",
   "execution_count": null,
   "metadata": {
    "collapsed": true
   },
   "outputs": [],
   "source": []
  },
  {
   "cell_type": "code",
   "execution_count": null,
   "metadata": {
    "collapsed": true
   },
   "outputs": [],
   "source": []
  }
 ],
 "metadata": {
  "anaconda-cloud": {},
  "kernelspec": {
   "display_name": "Python [Root]",
   "language": "python",
   "name": "Python [Root]"
  },
  "language_info": {
   "codemirror_mode": {
    "name": "ipython",
    "version": 2
   },
   "file_extension": ".py",
   "mimetype": "text/x-python",
   "name": "python",
   "nbconvert_exporter": "python",
   "pygments_lexer": "ipython2",
   "version": "2.7.12"
  }
 },
 "nbformat": 4,
 "nbformat_minor": 0
}
